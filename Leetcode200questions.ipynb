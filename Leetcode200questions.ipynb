{
  "nbformat": 4,
  "nbformat_minor": 0,
  "metadata": {
    "colab": {
      "name": "Leetcode200questions.ipynb",
      "provenance": [],
      "collapsed_sections": [],
      "toc_visible": true,
      "include_colab_link": true
    },
    "kernelspec": {
      "name": "python3",
      "display_name": "Python 3"
    }
  },
  "cells": [
    {
      "cell_type": "markdown",
      "metadata": {
        "id": "view-in-github",
        "colab_type": "text"
      },
      "source": [
        "<a href=\"https://colab.research.google.com/github/tuanweb92my/leetcode_test/blob/master/Leetcode200questions.ipynb\" target=\"_parent\"><img src=\"https://colab.research.google.com/assets/colab-badge.svg\" alt=\"Open In Colab\"/></a>"
      ]
    },
    {
      "cell_type": "markdown",
      "metadata": {
        "id": "j5jdFuEI3KBA",
        "colab_type": "text"
      },
      "source": [
        "### SALES"
      ]
    },
    {
      "cell_type": "code",
      "metadata": {
        "id": "LrX7TlIn0e8p",
        "colab_type": "code",
        "outputId": "9297dcd6-a9cc-42ad-ead4-054f563578cb",
        "colab": {
          "base_uri": "https://localhost:8080/",
          "height": 34
        }
      },
      "source": [
        "print(\"Hello\")"
      ],
      "execution_count": 0,
      "outputs": [
        {
          "output_type": "stream",
          "text": [
            "Hello\n"
          ],
          "name": "stdout"
        }
      ]
    },
    {
      "cell_type": "code",
      "metadata": {
        "id": "kkswza3F2Spc",
        "colab_type": "code",
        "colab": {}
      },
      "source": [
        "print(\"Hello Colab\")"
      ],
      "execution_count": 0,
      "outputs": []
    },
    {
      "cell_type": "code",
      "metadata": {
        "id": "27Ve3m_t2Srv",
        "colab_type": "code",
        "colab": {
          "base_uri": "https://localhost:8080/",
          "height": 34
        },
        "outputId": "072024e4-ab39-47a4-b5b3-1c46e9eff02c"
      },
      "source": [
        "revenue = 1900\n",
        "income = 5\n",
        "total = revenue* income\n",
        "print(total)"
      ],
      "execution_count": 1,
      "outputs": [
        {
          "output_type": "stream",
          "text": [
            "9500\n"
          ],
          "name": "stdout"
        }
      ]
    },
    {
      "cell_type": "code",
      "metadata": {
        "id": "-7zUlWVd285D",
        "colab_type": "code",
        "colab": {}
      },
      "source": [
        ""
      ],
      "execution_count": 0,
      "outputs": []
    },
    {
      "cell_type": "code",
      "metadata": {
        "id": "zygDxD253SPm",
        "colab_type": "code",
        "colab": {}
      },
      "source": [
        ""
      ],
      "execution_count": 0,
      "outputs": []
    },
    {
      "cell_type": "markdown",
      "metadata": {
        "id": "xmogOShc29SF",
        "colab_type": "text"
      },
      "source": [
        "### Summary"
      ]
    },
    {
      "cell_type": "code",
      "metadata": {
        "id": "98C9q1OX2SuB",
        "colab_type": "code",
        "colab": {
          "base_uri": "https://localhost:8080/",
          "height": 34
        },
        "outputId": "8fbe87ea-f6ef-4ec5-930c-56e3b7013030"
      },
      "source": [
        "import numpy as np\n",
        "\n",
        "np.__version__"
      ],
      "execution_count": 2,
      "outputs": [
        {
          "output_type": "execute_result",
          "data": {
            "text/plain": [
              "'1.18.4'"
            ]
          },
          "metadata": {
            "tags": []
          },
          "execution_count": 2
        }
      ]
    },
    {
      "cell_type": "code",
      "metadata": {
        "id": "rAy62UAR38My",
        "colab_type": "code",
        "colab": {
          "base_uri": "https://localhost:8080/",
          "height": 34
        },
        "outputId": "7c1e59a4-e2cf-4529-e990-36abdfb180a9"
      },
      "source": [
        "np.random.rand()"
      ],
      "execution_count": 3,
      "outputs": [
        {
          "output_type": "execute_result",
          "data": {
            "text/plain": [
              "0.9059313683167679"
            ]
          },
          "metadata": {
            "tags": []
          },
          "execution_count": 3
        }
      ]
    },
    {
      "cell_type": "code",
      "metadata": {
        "id": "hSVxSi0K38PD",
        "colab_type": "code",
        "colab": {}
      },
      "source": [
        "np.random.rand?\n"
      ],
      "execution_count": 0,
      "outputs": []
    },
    {
      "cell_type": "code",
      "metadata": {
        "id": "75JCGPGp38R2",
        "colab_type": "code",
        "colab": {
          "base_uri": "https://localhost:8080/",
          "height": 283
        },
        "outputId": "e270ef3a-b6fc-4f92-f408-8d367cb83ee6"
      },
      "source": [
        "!pip install imageai"
      ],
      "execution_count": 5,
      "outputs": [
        {
          "output_type": "stream",
          "text": [
            "Collecting imageai\n",
            "\u001b[?25l  Downloading https://files.pythonhosted.org/packages/09/99/4023e191a343fb23f01ae02ac57a5ca58037c310e8d8c62f87638a3bafc7/imageai-2.1.5-py3-none-any.whl (180kB)\n",
            "\r\u001b[K     |█▉                              | 10kB 10.0MB/s eta 0:00:01\r\u001b[K     |███▋                            | 20kB 1.8MB/s eta 0:00:01\r\u001b[K     |█████▍                          | 30kB 2.3MB/s eta 0:00:01\r\u001b[K     |███████▎                        | 40kB 2.5MB/s eta 0:00:01\r\u001b[K     |█████████                       | 51kB 2.0MB/s eta 0:00:01\r\u001b[K     |██████████▉                     | 61kB 2.3MB/s eta 0:00:01\r\u001b[K     |████████████▊                   | 71kB 2.5MB/s eta 0:00:01\r\u001b[K     |██████████████▌                 | 81kB 2.7MB/s eta 0:00:01\r\u001b[K     |████████████████▎               | 92kB 2.9MB/s eta 0:00:01\r\u001b[K     |██████████████████▏             | 102kB 2.8MB/s eta 0:00:01\r\u001b[K     |████████████████████            | 112kB 2.8MB/s eta 0:00:01\r\u001b[K     |█████████████████████▊          | 122kB 2.8MB/s eta 0:00:01\r\u001b[K     |███████████████████████▋        | 133kB 2.8MB/s eta 0:00:01\r\u001b[K     |█████████████████████████▍      | 143kB 2.8MB/s eta 0:00:01\r\u001b[K     |███████████████████████████▏    | 153kB 2.8MB/s eta 0:00:01\r\u001b[K     |█████████████████████████████   | 163kB 2.8MB/s eta 0:00:01\r\u001b[K     |██████████████████████████████▉ | 174kB 2.8MB/s eta 0:00:01\r\u001b[K     |████████████████████████████████| 184kB 2.8MB/s \n",
            "\u001b[?25hRequirement already satisfied: h5py in /usr/local/lib/python3.6/dist-packages (from imageai) (2.10.0)\n",
            "Requirement already satisfied: numpy in /usr/local/lib/python3.6/dist-packages (from imageai) (1.18.4)\n",
            "Requirement already satisfied: matplotlib in /usr/local/lib/python3.6/dist-packages (from imageai) (3.2.1)\n",
            "Requirement already satisfied: pillow in /usr/local/lib/python3.6/dist-packages (from imageai) (7.0.0)\n",
            "Requirement already satisfied: scipy in /usr/local/lib/python3.6/dist-packages (from imageai) (1.4.1)\n",
            "Requirement already satisfied: six in /usr/local/lib/python3.6/dist-packages (from h5py->imageai) (1.12.0)\n",
            "Requirement already satisfied: kiwisolver>=1.0.1 in /usr/local/lib/python3.6/dist-packages (from matplotlib->imageai) (1.2.0)\n",
            "Requirement already satisfied: cycler>=0.10 in /usr/local/lib/python3.6/dist-packages (from matplotlib->imageai) (0.10.0)\n",
            "Requirement already satisfied: python-dateutil>=2.1 in /usr/local/lib/python3.6/dist-packages (from matplotlib->imageai) (2.8.1)\n",
            "Requirement already satisfied: pyparsing!=2.0.4,!=2.1.2,!=2.1.6,>=2.0.1 in /usr/local/lib/python3.6/dist-packages (from matplotlib->imageai) (2.4.7)\n",
            "Installing collected packages: imageai\n",
            "Successfully installed imageai-2.1.5\n"
          ],
          "name": "stdout"
        }
      ]
    },
    {
      "cell_type": "code",
      "metadata": {
        "id": "JAiZzXiN38UV",
        "colab_type": "code",
        "colab": {}
      },
      "source": [
        "import imageai"
      ],
      "execution_count": 0,
      "outputs": []
    },
    {
      "cell_type": "markdown",
      "metadata": {
        "id": "PACSc5yz5HnC",
        "colab_type": "text"
      },
      "source": [
        "### Markdown"
      ]
    },
    {
      "cell_type": "code",
      "metadata": {
        "id": "6b3QgENI2SwX",
        "colab_type": "code",
        "colab": {}
      },
      "source": [
        ""
      ],
      "execution_count": 0,
      "outputs": []
    },
    {
      "cell_type": "markdown",
      "metadata": {
        "id": "9AuxBjvE5THy",
        "colab_type": "text"
      },
      "source": [
        "Examples of *markdown*  \n",
        "Examples of **markdown**\n",
        "Examples of __markdown__  \n",
        "\n",
        "Examples of `markdown`\n",
        "> Python\n",
        ">>> Code\n",
        "\n",
        "An ordered list:  \n",
        "1. One\n",
        "2. Two\n",
        "3. Three\n",
        "\n",
        "An unordered list:  \n",
        "* One  \n",
        "* Two  \n",
        "* Three \n",
        "\n",
        "[Google](http://wwww.google.com) \n",
        "\n",
        "![Python](data:image/jpeg;base64,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)\n",
        "\n"
      ]
    },
    {
      "cell_type": "code",
      "metadata": {
        "id": "-eQkg2LX2Syt",
        "colab_type": "code",
        "colab": {}
      },
      "source": [
        ""
      ],
      "execution_count": 0,
      "outputs": []
    },
    {
      "cell_type": "markdown",
      "metadata": {
        "id": "vJ5shBslB4zn",
        "colab_type": "text"
      },
      "source": [
        "$y= x^2$  \n",
        "$ \\frac{1}{n} \\sum_{i=1}^{n}x_{i}$  \n",
        "\n",
        "$A = \\begin{pmatrix}\n",
        "a_{1,1} & a_{1,2} \\\\\n",
        "a_{2,1} & a_{2,2}\n",
        "\\end{pmatrix}$\n",
        "\n",
        "Col1 | Col2 | Col3  \n",
        "--- | --- | ---  \n",
        "val1 | val2 | val3  \n"
      ]
    },
    {
      "cell_type": "code",
      "metadata": {
        "id": "CyluKIEWBPjT",
        "colab_type": "code",
        "colab": {}
      },
      "source": [
        ""
      ],
      "execution_count": 0,
      "outputs": []
    },
    {
      "cell_type": "code",
      "metadata": {
        "id": "17XxH2RIBPl0",
        "colab_type": "code",
        "colab": {}
      },
      "source": [
        ""
      ],
      "execution_count": 0,
      "outputs": []
    },
    {
      "cell_type": "code",
      "metadata": {
        "id": "eSzxZo7OBPoP",
        "colab_type": "code",
        "colab": {}
      },
      "source": [
        ""
      ],
      "execution_count": 0,
      "outputs": []
    },
    {
      "cell_type": "code",
      "metadata": {
        "id": "yqhqkK6jBPqr",
        "colab_type": "code",
        "colab": {}
      },
      "source": [
        ""
      ],
      "execution_count": 0,
      "outputs": []
    },
    {
      "cell_type": "code",
      "metadata": {
        "id": "IE2gx4kgBPs2",
        "colab_type": "code",
        "colab": {}
      },
      "source": [
        ""
      ],
      "execution_count": 0,
      "outputs": []
    },
    {
      "cell_type": "code",
      "metadata": {
        "id": "h_iA0gs0BPva",
        "colab_type": "code",
        "colab": {}
      },
      "source": [
        ""
      ],
      "execution_count": 0,
      "outputs": []
    },
    {
      "cell_type": "code",
      "metadata": {
        "id": "zIgoflLYBPxv",
        "colab_type": "code",
        "colab": {}
      },
      "source": [
        ""
      ],
      "execution_count": 0,
      "outputs": []
    },
    {
      "cell_type": "code",
      "metadata": {
        "id": "xLoYJZfYBP2a",
        "colab_type": "code",
        "colab": {}
      },
      "source": [
        ""
      ],
      "execution_count": 0,
      "outputs": []
    },
    {
      "cell_type": "code",
      "metadata": {
        "id": "dl5yPLIsBP5Q",
        "colab_type": "code",
        "colab": {}
      },
      "source": [
        ""
      ],
      "execution_count": 0,
      "outputs": []
    },
    {
      "cell_type": "code",
      "metadata": {
        "id": "prbCfGNpBP8Q",
        "colab_type": "code",
        "colab": {}
      },
      "source": [
        ""
      ],
      "execution_count": 0,
      "outputs": []
    },
    {
      "cell_type": "code",
      "metadata": {
        "id": "vl-Qtst-BP_r",
        "colab_type": "code",
        "colab": {}
      },
      "source": [
        ""
      ],
      "execution_count": 0,
      "outputs": []
    },
    {
      "cell_type": "code",
      "metadata": {
        "id": "xEdD723oBP0j",
        "colab_type": "code",
        "colab": {}
      },
      "source": [
        ""
      ],
      "execution_count": 0,
      "outputs": []
    },
    {
      "cell_type": "code",
      "metadata": {
        "id": "vp8LabTX2S09",
        "colab_type": "code",
        "colab": {}
      },
      "source": [
        ""
      ],
      "execution_count": 0,
      "outputs": []
    },
    {
      "cell_type": "code",
      "metadata": {
        "id": "XeX-Qhc52S3W",
        "colab_type": "code",
        "colab": {}
      },
      "source": [
        ""
      ],
      "execution_count": 0,
      "outputs": []
    },
    {
      "cell_type": "code",
      "metadata": {
        "id": "XYGbHu6q2S50",
        "colab_type": "code",
        "colab": {}
      },
      "source": [
        ""
      ],
      "execution_count": 0,
      "outputs": []
    },
    {
      "cell_type": "code",
      "metadata": {
        "id": "URJwmsrD2S8J",
        "colab_type": "code",
        "colab": {}
      },
      "source": [
        ""
      ],
      "execution_count": 0,
      "outputs": []
    },
    {
      "cell_type": "code",
      "metadata": {
        "id": "x4VKczBu2S-i",
        "colab_type": "code",
        "colab": {}
      },
      "source": [
        ""
      ],
      "execution_count": 0,
      "outputs": []
    },
    {
      "cell_type": "code",
      "metadata": {
        "id": "_AmbGXLt2TBB",
        "colab_type": "code",
        "colab": {}
      },
      "source": [
        ""
      ],
      "execution_count": 0,
      "outputs": []
    },
    {
      "cell_type": "code",
      "metadata": {
        "id": "NN_pXRkK2TDa",
        "colab_type": "code",
        "colab": {}
      },
      "source": [
        ""
      ],
      "execution_count": 0,
      "outputs": []
    },
    {
      "cell_type": "code",
      "metadata": {
        "id": "YulAeAPf2TFy",
        "colab_type": "code",
        "colab": {}
      },
      "source": [
        ""
      ],
      "execution_count": 0,
      "outputs": []
    },
    {
      "cell_type": "code",
      "metadata": {
        "id": "1j-m0wIi2TIW",
        "colab_type": "code",
        "colab": {}
      },
      "source": [
        ""
      ],
      "execution_count": 0,
      "outputs": []
    },
    {
      "cell_type": "code",
      "metadata": {
        "id": "eaMl9o-q2TKy",
        "colab_type": "code",
        "colab": {}
      },
      "source": [
        ""
      ],
      "execution_count": 0,
      "outputs": []
    },
    {
      "cell_type": "code",
      "metadata": {
        "id": "vbRPqzZR2TNQ",
        "colab_type": "code",
        "colab": {}
      },
      "source": [
        ""
      ],
      "execution_count": 0,
      "outputs": []
    },
    {
      "cell_type": "code",
      "metadata": {
        "id": "wREC-OIv2TPl",
        "colab_type": "code",
        "colab": {}
      },
      "source": [
        ""
      ],
      "execution_count": 0,
      "outputs": []
    },
    {
      "cell_type": "code",
      "metadata": {
        "id": "Ws08pppx2TSd",
        "colab_type": "code",
        "colab": {}
      },
      "source": [
        ""
      ],
      "execution_count": 0,
      "outputs": []
    }
  ]
}